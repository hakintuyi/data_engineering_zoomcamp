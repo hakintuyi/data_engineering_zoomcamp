{
 "cells": [
  {
   "cell_type": "code",
   "execution_count": 9,
   "id": "8d93a4e6-b84f-40ef-849a-a6995c9ba0f4",
   "metadata": {},
   "outputs": [],
   "source": [
    "import pandas as pd\n",
    "from google.cloud import bigquery\n",
    "import logging"
   ]
  },
  {
   "cell_type": "code",
   "execution_count": 4,
   "id": "542a80a8-4164-43cd-b953-d3e28978cc99",
   "metadata": {},
   "outputs": [
    {
     "name": "stdout",
     "output_type": "stream",
     "text": [
      "1.5.3\n",
      "0.21.0\n"
     ]
    }
   ],
   "source": [
    "import pandas_gbq\n",
    "\n",
    "print(pd.__version__)\n",
    "print(pandas_gbq.__version__)"
   ]
  },
  {
   "cell_type": "code",
   "execution_count": 5,
   "id": "16cfbda2-f1a5-4c73-a16a-bc625583a2e4",
   "metadata": {},
   "outputs": [],
   "source": [
    "# Initialize a BigQuery client\n",
    "client = bigquery.Client()"
   ]
  },
  {
   "cell_type": "code",
   "execution_count": 6,
   "id": "c87289f1-f03c-4df2-b894-a65141ccd863",
   "metadata": {},
   "outputs": [],
   "source": [
    "# Set up logging\n",
    "logging.basicConfig(level=logging.INFO)"
   ]
  },
  {
   "cell_type": "code",
   "execution_count": 7,
   "id": "11a88ef2-274c-458c-a71d-ab8358c4f6b3",
   "metadata": {},
   "outputs": [],
   "source": [
    "def construct_url(month):\n",
    "    \"\"\"Constructs the URL for a given month.\"\"\"\n",
    "    return f\"https://d37ci6vzurychx.cloudfront.net/trip-data/green_tripdata_2022-{month:02d}.parquet\""
   ]
  },
  {
   "cell_type": "code",
   "execution_count": null,
   "id": "85c9df8c-e0bf-4a7d-bfac-cd5f46456430",
   "metadata": {},
   "outputs": [],
   "source": []
  }
 ],
 "metadata": {
  "kernelspec": {
   "display_name": "Python 3 (ipykernel)",
   "language": "python",
   "name": "python3"
  },
  "language_info": {
   "codemirror_mode": {
    "name": "ipython",
    "version": 3
   },
   "file_extension": ".py",
   "mimetype": "text/x-python",
   "name": "python",
   "nbconvert_exporter": "python",
   "pygments_lexer": "ipython3",
   "version": "3.10.9"
  },
  "widgets": {
   "application/vnd.jupyter.widget-state+json": {
    "state": {},
    "version_major": 2,
    "version_minor": 0
   }
  }
 },
 "nbformat": 4,
 "nbformat_minor": 5
}
